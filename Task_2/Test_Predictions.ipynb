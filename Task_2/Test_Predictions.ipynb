{
 "cells": [
  {
   "cell_type": "markdown",
   "id": "819ad8dd",
   "metadata": {},
   "source": [
    "# Importing the Libraries"
   ]
  },
  {
   "cell_type": "code",
   "execution_count": 30,
   "id": "5049fbfb",
   "metadata": {},
   "outputs": [],
   "source": [
    "import numpy as np\n",
    "import pandas as pd\n",
    "import joblib\n",
    "from sklearn.feature_extraction.text import TfidfVectorizer\n",
    "\n",
    "import warnings\n",
    "warnings.filterwarnings(\"ignore\")"
   ]
  },
  {
   "cell_type": "markdown",
   "id": "5a951b06",
   "metadata": {},
   "source": [
    "# Importing the dataset"
   ]
  },
  {
   "cell_type": "code",
   "execution_count": 2,
   "id": "9cc2d244",
   "metadata": {},
   "outputs": [],
   "source": [
    "train = pd.read_csv(\"train_Intent.csv\")"
   ]
  },
  {
   "cell_type": "code",
   "execution_count": 14,
   "id": "0b284ad2",
   "metadata": {},
   "outputs": [],
   "source": [
    "train[\"clean\"].fillna(\" \",inplace=True)"
   ]
  },
  {
   "cell_type": "code",
   "execution_count": 3,
   "id": "d800ff0b",
   "metadata": {},
   "outputs": [],
   "source": [
    "test = pd.read_csv(\"test2use.csv\")"
   ]
  },
  {
   "cell_type": "code",
   "execution_count": 18,
   "id": "527ff6a8",
   "metadata": {},
   "outputs": [],
   "source": [
    "test[\"clean\"].fillna(\" \",inplace=True)"
   ]
  },
  {
   "cell_type": "markdown",
   "id": "7b37eae0",
   "metadata": {},
   "source": [
    "# tf-idf-Vectorization"
   ]
  },
  {
   "cell_type": "code",
   "execution_count": 19,
   "id": "f0f1f8e4",
   "metadata": {},
   "outputs": [],
   "source": [
    "#Defining the tf-idf-vectorizer\n",
    "features = TfidfVectorizer(min_df=1, stop_words='english', lowercase=True)"
   ]
  },
  {
   "cell_type": "code",
   "execution_count": 21,
   "id": "dfc806dc",
   "metadata": {},
   "outputs": [],
   "source": [
    "#Creating the vector\n",
    "prep = features.fit(train[\"clean\"])\n",
    "message = prep.transform(test[\"clean\"])"
   ]
  },
  {
   "cell_type": "markdown",
   "id": "e47354b2",
   "metadata": {},
   "source": [
    "# Importing the model"
   ]
  },
  {
   "cell_type": "code",
   "execution_count": 31,
   "id": "773168ff",
   "metadata": {},
   "outputs": [],
   "source": [
    "model = joblib.load('intent_cluster.pkl')"
   ]
  },
  {
   "cell_type": "code",
   "execution_count": 32,
   "id": "b06db47c",
   "metadata": {},
   "outputs": [
    {
     "data": {
      "text/html": [
       "<div>\n",
       "<style scoped>\n",
       "    .dataframe tbody tr th:only-of-type {\n",
       "        vertical-align: middle;\n",
       "    }\n",
       "\n",
       "    .dataframe tbody tr th {\n",
       "        vertical-align: top;\n",
       "    }\n",
       "\n",
       "    .dataframe thead th {\n",
       "        text-align: right;\n",
       "    }\n",
       "</style>\n",
       "<table border=\"1\" class=\"dataframe\">\n",
       "  <thead>\n",
       "    <tr style=\"text-align: right;\">\n",
       "      <th></th>\n",
       "      <th>Unnamed: 0</th>\n",
       "      <th>Id</th>\n",
       "      <th>Message</th>\n",
       "      <th>length</th>\n",
       "      <th>clean</th>\n",
       "      <th>intent</th>\n",
       "    </tr>\n",
       "  </thead>\n",
       "  <tbody>\n",
       "    <tr>\n",
       "      <th>0</th>\n",
       "      <td>61410</td>\n",
       "      <td>5b696ce48bb55b31c4039955</td>\n",
       "      <td>**Exclusive Now Or Never Offer** 50 Crore Dat...</td>\n",
       "      <td>2562</td>\n",
       "      <td>exclusive never offer 50 crore database digita...</td>\n",
       "      <td>0</td>\n",
       "    </tr>\n",
       "    <tr>\n",
       "      <th>1</th>\n",
       "      <td>29473</td>\n",
       "      <td>5b3dce3b8bb55b25c894ed05</td>\n",
       "      <td>Anyone can do seo for website</td>\n",
       "      <td>31</td>\n",
       "      <td>anyone seo website</td>\n",
       "      <td>0</td>\n",
       "    </tr>\n",
       "    <tr>\n",
       "      <th>2</th>\n",
       "      <td>182979</td>\n",
       "      <td>5d027171a3df63227c0b85cf</td>\n",
       "      <td>We're getting \"invalid e-mail address\" error ...</td>\n",
       "      <td>130</td>\n",
       "      <td>getting invalid email address error opt page t...</td>\n",
       "      <td>1</td>\n",
       "    </tr>\n",
       "    <tr>\n",
       "      <th>3</th>\n",
       "      <td>28273</td>\n",
       "      <td>5b3c99c08bb55b26f88789ea</td>\n",
       "      <td>Hey you guys I was talk ing to a member I ho...</td>\n",
       "      <td>918</td>\n",
       "      <td>hey guys talk ing member hope guys know drop s...</td>\n",
       "      <td>1</td>\n",
       "    </tr>\n",
       "    <tr>\n",
       "      <th>4</th>\n",
       "      <td>108173</td>\n",
       "      <td>5bcf0ab28bb55b07a8f8efe6</td>\n",
       "      <td>BUENAS NOCHES TENGO ESTO EN VENTA PARA MÁS IN...</td>\n",
       "      <td>144</td>\n",
       "      <td>buenas noches tengo esto en venta para más inf...</td>\n",
       "      <td>1</td>\n",
       "    </tr>\n",
       "  </tbody>\n",
       "</table>\n",
       "</div>"
      ],
      "text/plain": [
       "   Unnamed: 0                        Id  \\\n",
       "0       61410  5b696ce48bb55b31c4039955   \n",
       "1       29473  5b3dce3b8bb55b25c894ed05   \n",
       "2      182979  5d027171a3df63227c0b85cf   \n",
       "3       28273  5b3c99c08bb55b26f88789ea   \n",
       "4      108173  5bcf0ab28bb55b07a8f8efe6   \n",
       "\n",
       "                                             Message  length  \\\n",
       "0   **Exclusive Now Or Never Offer** 50 Crore Dat...    2562   \n",
       "1                     Anyone can do seo for website       31   \n",
       "2   We're getting \"invalid e-mail address\" error ...     130   \n",
       "3    Hey you guys I was talk ing to a member I ho...     918   \n",
       "4   BUENAS NOCHES TENGO ESTO EN VENTA PARA MÁS IN...     144   \n",
       "\n",
       "                                               clean  intent  \n",
       "0  exclusive never offer 50 crore database digita...       0  \n",
       "1                                 anyone seo website       0  \n",
       "2  getting invalid email address error opt page t...       1  \n",
       "3  hey guys talk ing member hope guys know drop s...       1  \n",
       "4  buenas noches tengo esto en venta para más inf...       1  "
      ]
     },
     "execution_count": 32,
     "metadata": {},
     "output_type": "execute_result"
    }
   ],
   "source": [
    "y = model.predict(message)\n",
    "#adding the labels to a column named intent\n",
    "test[\"intent\"] = y\n",
    "#The new dataframe with the clustering done\n",
    "test.head()"
   ]
  },
  {
   "cell_type": "markdown",
   "id": "08ea2c80",
   "metadata": {},
   "source": [
    "# Classifying and saving the data"
   ]
  },
  {
   "cell_type": "code",
   "execution_count": 33,
   "id": "fa4d6da3",
   "metadata": {},
   "outputs": [],
   "source": [
    "#Renaming classification\n",
    "test[\"intent\"].replace({0:'Buyer & Seller', 1:'Seller', 2:'Neutral', 3:'Buyer'}, inplace=True)"
   ]
  },
  {
   "cell_type": "code",
   "execution_count": 34,
   "id": "4f2b07ff",
   "metadata": {},
   "outputs": [],
   "source": [
    "#Exporting the data\n",
    "test.to_csv('test_Intent.csv')"
   ]
  },
  {
   "cell_type": "code",
   "execution_count": 35,
   "id": "ac61e252",
   "metadata": {},
   "outputs": [
    {
     "data": {
      "text/html": [
       "<div>\n",
       "<style scoped>\n",
       "    .dataframe tbody tr th:only-of-type {\n",
       "        vertical-align: middle;\n",
       "    }\n",
       "\n",
       "    .dataframe tbody tr th {\n",
       "        vertical-align: top;\n",
       "    }\n",
       "\n",
       "    .dataframe thead th {\n",
       "        text-align: right;\n",
       "    }\n",
       "</style>\n",
       "<table border=\"1\" class=\"dataframe\">\n",
       "  <thead>\n",
       "    <tr style=\"text-align: right;\">\n",
       "      <th></th>\n",
       "      <th>Unnamed: 0</th>\n",
       "      <th>Id</th>\n",
       "      <th>Message</th>\n",
       "      <th>length</th>\n",
       "      <th>clean</th>\n",
       "      <th>intent</th>\n",
       "    </tr>\n",
       "  </thead>\n",
       "  <tbody>\n",
       "    <tr>\n",
       "      <th>0</th>\n",
       "      <td>61410</td>\n",
       "      <td>5b696ce48bb55b31c4039955</td>\n",
       "      <td>**Exclusive Now Or Never Offer** 50 Crore Dat...</td>\n",
       "      <td>2562</td>\n",
       "      <td>exclusive never offer 50 crore database digita...</td>\n",
       "      <td>Buyer &amp; Seller</td>\n",
       "    </tr>\n",
       "    <tr>\n",
       "      <th>1</th>\n",
       "      <td>29473</td>\n",
       "      <td>5b3dce3b8bb55b25c894ed05</td>\n",
       "      <td>Anyone can do seo for website</td>\n",
       "      <td>31</td>\n",
       "      <td>anyone seo website</td>\n",
       "      <td>Buyer &amp; Seller</td>\n",
       "    </tr>\n",
       "    <tr>\n",
       "      <th>2</th>\n",
       "      <td>182979</td>\n",
       "      <td>5d027171a3df63227c0b85cf</td>\n",
       "      <td>We're getting \"invalid e-mail address\" error ...</td>\n",
       "      <td>130</td>\n",
       "      <td>getting invalid email address error opt page t...</td>\n",
       "      <td>Seller</td>\n",
       "    </tr>\n",
       "    <tr>\n",
       "      <th>3</th>\n",
       "      <td>28273</td>\n",
       "      <td>5b3c99c08bb55b26f88789ea</td>\n",
       "      <td>Hey you guys I was talk ing to a member I ho...</td>\n",
       "      <td>918</td>\n",
       "      <td>hey guys talk ing member hope guys know drop s...</td>\n",
       "      <td>Seller</td>\n",
       "    </tr>\n",
       "    <tr>\n",
       "      <th>4</th>\n",
       "      <td>108173</td>\n",
       "      <td>5bcf0ab28bb55b07a8f8efe6</td>\n",
       "      <td>BUENAS NOCHES TENGO ESTO EN VENTA PARA MÁS IN...</td>\n",
       "      <td>144</td>\n",
       "      <td>buenas noches tengo esto en venta para más inf...</td>\n",
       "      <td>Seller</td>\n",
       "    </tr>\n",
       "  </tbody>\n",
       "</table>\n",
       "</div>"
      ],
      "text/plain": [
       "   Unnamed: 0                        Id  \\\n",
       "0       61410  5b696ce48bb55b31c4039955   \n",
       "1       29473  5b3dce3b8bb55b25c894ed05   \n",
       "2      182979  5d027171a3df63227c0b85cf   \n",
       "3       28273  5b3c99c08bb55b26f88789ea   \n",
       "4      108173  5bcf0ab28bb55b07a8f8efe6   \n",
       "\n",
       "                                             Message  length  \\\n",
       "0   **Exclusive Now Or Never Offer** 50 Crore Dat...    2562   \n",
       "1                     Anyone can do seo for website       31   \n",
       "2   We're getting \"invalid e-mail address\" error ...     130   \n",
       "3    Hey you guys I was talk ing to a member I ho...     918   \n",
       "4   BUENAS NOCHES TENGO ESTO EN VENTA PARA MÁS IN...     144   \n",
       "\n",
       "                                               clean          intent  \n",
       "0  exclusive never offer 50 crore database digita...  Buyer & Seller  \n",
       "1                                 anyone seo website  Buyer & Seller  \n",
       "2  getting invalid email address error opt page t...          Seller  \n",
       "3  hey guys talk ing member hope guys know drop s...          Seller  \n",
       "4  buenas noches tengo esto en venta para más inf...          Seller  "
      ]
     },
     "execution_count": 35,
     "metadata": {},
     "output_type": "execute_result"
    }
   ],
   "source": [
    "test.head()"
   ]
  },
  {
   "cell_type": "code",
   "execution_count": null,
   "id": "f31741de",
   "metadata": {},
   "outputs": [],
   "source": []
  }
 ],
 "metadata": {
  "kernelspec": {
   "display_name": "Python 3",
   "language": "python",
   "name": "python3"
  },
  "language_info": {
   "codemirror_mode": {
    "name": "ipython",
    "version": 3
   },
   "file_extension": ".py",
   "mimetype": "text/x-python",
   "name": "python",
   "nbconvert_exporter": "python",
   "pygments_lexer": "ipython3",
   "version": "3.8.8"
  }
 },
 "nbformat": 4,
 "nbformat_minor": 5
}
